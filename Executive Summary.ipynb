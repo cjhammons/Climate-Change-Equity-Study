{
 "cells": [
  {
   "cell_type": "markdown",
   "metadata": {},
   "source": [
    "# Problem and Hypothesis\n",
    "\n",
    "There has been discussion about how “fair” the outcomes of climate change will be, considering that many more vulnerable countries are less developed and therefore have emitted much less carbon in their lifetimes. This analysis will look at the most obvious effect of climate change, rising temperatures, and see if lower emitting developing countries are in fact seeing the worst of it.\n",
    "\n",
    "*Our hypothesis is that the emissions of a country have no significant correlation to their change in temperature.* In other words, countries will be similarly effected by climate change regardless of how much Carbon Dioxide they have emitted.\n",
    "\n",
    "# Tools Used\n",
    "\n",
    "This analysis used Python in a Jupyter Notebook. The python libraries ``pandas``, ``numpy``, and ``matplotlib`` were used. Python and these libraries are effective and easy to use. Python is not a very fast language, but our analysis was small enough for this not to be a major disadvantage.\n",
    "\n",
    "# Data Analysis process\n",
    "\n",
    "We will look at temperature changes and CO2 emissions for each country from 1960-2018. We'll calculate the moving average of the country's temperatures over this period from past to present and get the change from 1960 to 2018. We'll then calculate the Pearson Correlation Coefficient between this change and the country's CO2 emissions over the same period. \n",
    "\n",
    "## Pearson Correlation Coefficient\n",
    "\n",
    "Now it is time to look at our Pearson correlation coefficient. As a reminder, the coefficient is a value ranging from -1 to 1 with:\n",
    "\n",
    "- -1 meaning negative correlation\n",
    "- 0 meaning no correlation\n",
    "- 1 meaning positive correlation\n",
    "\n",
    "### Advantages\n",
    "\n",
    "- Indicates the presence or absence of correlation between any two variables and determines the exact extent or degree to which they are correlated.[1]\n",
    "- Can ascertain the direction of correlation [1]\n",
    "- Easy to implement in python\n",
    "\n",
    "### limitations\n",
    "\n",
    "- Not as quick as other models\n",
    "- In the case of homogeneous data it can be misinterpreted [1]\n",
    "\n",
    "## Results\n",
    "\n",
    "Our analysis gave a Pearson Correlation Coefficient of -0.033, showing that there is almost no correlation between a country's emissions and their temperature change since 1960.\n",
    "\n",
    "# Proposed Actions\n",
    "\n",
    "More developed countries need to not only cut back on their emissions (many are already doing so) but be prepared to offer aid to the lesser-developed ones as they weather the crisis that they did not create.\n",
    "\n",
    "# Expected Benefits\n",
    "\n",
    "Our analysis has produced statistical proof that a country's emissions do not correlate with their changing temperature. This will be useful in discussions of global climate policy. "
   ]
  }
 ],
 "metadata": {
  "language_info": {
   "name": "python"
  },
  "orig_nbformat": 4
 },
 "nbformat": 4,
 "nbformat_minor": 2
}
